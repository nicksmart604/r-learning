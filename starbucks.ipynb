{
 "cells": [
  {
   "cell_type": "markdown",
   "metadata": {},
   "source": [
    "We'll begin by loading the dplry library, and importing a csv file containing stats on which cities worldwide are home to the most Starbucks outlets.  The original data is from 2014, and I found it over at [Future Learn](https://www.futurelearn.com/courses/maths-power-laws/0/steps/12163):"
   ]
  },
  {
   "cell_type": "code",
   "execution_count": 2,
   "metadata": {},
   "outputs": [],
   "source": [
    "library(dplyr)"
   ]
  },
  {
   "cell_type": "code",
   "execution_count": 3,
   "metadata": {},
   "outputs": [],
   "source": [
    "starbucks <- read.csv('starbucks.csv', stringsAsFactors = FALSE)"
   ]
  },
  {
   "cell_type": "markdown",
   "metadata": {},
   "source": [
    "We can use the **head()** function to view the first six lines of the data frame:"
   ]
  },
  {
   "cell_type": "code",
   "execution_count": 4,
   "metadata": {},
   "outputs": [
    {
     "data": {
      "text/html": [
       "<table>\n",
       "<thead><tr><th scope=col>ï..city</th><th scope=col>abb</th><th scope=col>continent</th><th scope=col>population</th><th scope=col>outlets</th></tr></thead>\n",
       "<tbody>\n",
       "\t<tr><td>Beijing      </td><td>BJ           </td><td>Asia         </td><td>20035455     </td><td>137          </td></tr>\n",
       "\t<tr><td>Calgary      </td><td>CGY          </td><td>North America</td><td> 1547484     </td><td>121          </td></tr>\n",
       "\t<tr><td>Chicago      </td><td>CHI          </td><td>North America</td><td> 2694236     </td><td>164          </td></tr>\n",
       "\t<tr><td>Dallas       </td><td>DAL          </td><td>North America</td><td> 1382267     </td><td> 84          </td></tr>\n",
       "\t<tr><td>Edmonton     </td><td>EDM          </td><td>North America</td><td> 1461182     </td><td> 72          </td></tr>\n",
       "\t<tr><td>Hong Kong    </td><td>HK           </td><td>Asia         </td><td> 7547652     </td><td> 75          </td></tr>\n",
       "</tbody>\n",
       "</table>\n"
      ],
      "text/latex": [
       "\\begin{tabular}{r|lllll}\n",
       " ï..city & abb & continent & population & outlets\\\\\n",
       "\\hline\n",
       "\t Beijing       & BJ            & Asia          & 20035455      & 137          \\\\\n",
       "\t Calgary       & CGY           & North America &  1547484      & 121          \\\\\n",
       "\t Chicago       & CHI           & North America &  2694236      & 164          \\\\\n",
       "\t Dallas        & DAL           & North America &  1382267      &  84          \\\\\n",
       "\t Edmonton      & EDM           & North America &  1461182      &  72          \\\\\n",
       "\t Hong Kong     & HK            & Asia          &  7547652      &  75          \\\\\n",
       "\\end{tabular}\n"
      ],
      "text/markdown": [
       "\n",
       "| ï..city | abb | continent | population | outlets |\n",
       "|---|---|---|---|---|\n",
       "| Beijing       | BJ            | Asia          | 20035455      | 137           |\n",
       "| Calgary       | CGY           | North America |  1547484      | 121           |\n",
       "| Chicago       | CHI           | North America |  2694236      | 164           |\n",
       "| Dallas        | DAL           | North America |  1382267      |  84           |\n",
       "| Edmonton      | EDM           | North America |  1461182      |  72           |\n",
       "| Hong Kong     | HK            | Asia          |  7547652      |  75           |\n",
       "\n"
      ],
      "text/plain": [
       "  ï..city   abb continent     population outlets\n",
       "1 Beijing   BJ  Asia          20035455   137    \n",
       "2 Calgary   CGY North America  1547484   121    \n",
       "3 Chicago   CHI North America  2694236   164    \n",
       "4 Dallas    DAL North America  1382267    84    \n",
       "5 Edmonton  EDM North America  1461182    72    \n",
       "6 Hong Kong HK  Asia           7547652    75    "
      ]
     },
     "metadata": {},
     "output_type": "display_data"
    }
   ],
   "source": [
    "head(starbucks)"
   ]
  },
  {
   "cell_type": "markdown",
   "metadata": {},
   "source": [
    "That \"ï..\" in the first column looks a little ugly.  There's a few ways that we could remove it, but renaming the column ought to be simple enough:"
   ]
  },
  {
   "cell_type": "code",
   "execution_count": 5,
   "metadata": {},
   "outputs": [
    {
     "data": {
      "text/html": [
       "<table>\n",
       "<thead><tr><th scope=col>city</th><th scope=col>abb</th><th scope=col>continent</th><th scope=col>population</th><th scope=col>outlets</th></tr></thead>\n",
       "<tbody>\n",
       "\t<tr><td>Beijing      </td><td>BJ           </td><td>Asia         </td><td>20035455     </td><td>137          </td></tr>\n",
       "\t<tr><td>Calgary      </td><td>CGY          </td><td>North America</td><td> 1547484     </td><td>121          </td></tr>\n",
       "\t<tr><td>Chicago      </td><td>CHI          </td><td>North America</td><td> 2694236     </td><td>164          </td></tr>\n",
       "\t<tr><td>Dallas       </td><td>DAL          </td><td>North America</td><td> 1382267     </td><td> 84          </td></tr>\n",
       "\t<tr><td>Edmonton     </td><td>EDM          </td><td>North America</td><td> 1461182     </td><td> 72          </td></tr>\n",
       "\t<tr><td>Hong Kong    </td><td>HK           </td><td>Asia         </td><td> 7547652     </td><td> 75          </td></tr>\n",
       "</tbody>\n",
       "</table>\n"
      ],
      "text/latex": [
       "\\begin{tabular}{r|lllll}\n",
       " city & abb & continent & population & outlets\\\\\n",
       "\\hline\n",
       "\t Beijing       & BJ            & Asia          & 20035455      & 137          \\\\\n",
       "\t Calgary       & CGY           & North America &  1547484      & 121          \\\\\n",
       "\t Chicago       & CHI           & North America &  2694236      & 164          \\\\\n",
       "\t Dallas        & DAL           & North America &  1382267      &  84          \\\\\n",
       "\t Edmonton      & EDM           & North America &  1461182      &  72          \\\\\n",
       "\t Hong Kong     & HK            & Asia          &  7547652      &  75          \\\\\n",
       "\\end{tabular}\n"
      ],
      "text/markdown": [
       "\n",
       "| city | abb | continent | population | outlets |\n",
       "|---|---|---|---|---|\n",
       "| Beijing       | BJ            | Asia          | 20035455      | 137           |\n",
       "| Calgary       | CGY           | North America |  1547484      | 121           |\n",
       "| Chicago       | CHI           | North America |  2694236      | 164           |\n",
       "| Dallas        | DAL           | North America |  1382267      |  84           |\n",
       "| Edmonton      | EDM           | North America |  1461182      |  72           |\n",
       "| Hong Kong     | HK            | Asia          |  7547652      |  75           |\n",
       "\n"
      ],
      "text/plain": [
       "  city      abb continent     population outlets\n",
       "1 Beijing   BJ  Asia          20035455   137    \n",
       "2 Calgary   CGY North America  1547484   121    \n",
       "3 Chicago   CHI North America  2694236   164    \n",
       "4 Dallas    DAL North America  1382267    84    \n",
       "5 Edmonton  EDM North America  1461182    72    \n",
       "6 Hong Kong HK  Asia           7547652    75    "
      ]
     },
     "metadata": {},
     "output_type": "display_data"
    }
   ],
   "source": [
    "colnames(starbucks)[which(names(starbucks) == \"ï..city\")] <- \"city\"\n",
    "head(starbucks)"
   ]
  },
  {
   "cell_type": "markdown",
   "metadata": {},
   "source": [
    "The **class()** function confirms that we're working with a data frame, and by checking the structure with **str()**, we can see that we're working with 25 rows of 5 variables: "
   ]
  },
  {
   "cell_type": "code",
   "execution_count": 6,
   "metadata": {},
   "outputs": [
    {
     "data": {
      "text/html": [
       "'data.frame'"
      ],
      "text/latex": [
       "'data.frame'"
      ],
      "text/markdown": [
       "'data.frame'"
      ],
      "text/plain": [
       "[1] \"data.frame\""
      ]
     },
     "metadata": {},
     "output_type": "display_data"
    }
   ],
   "source": [
    "class(starbucks)"
   ]
  },
  {
   "cell_type": "code",
   "execution_count": 7,
   "metadata": {},
   "outputs": [
    {
     "name": "stdout",
     "output_type": "stream",
     "text": [
      "'data.frame':\t25 obs. of  5 variables:\n",
      " $ city      : chr  \"Beijing\" \"Calgary\" \"Chicago\" \"Dallas\" ...\n",
      " $ abb       : chr  \"BJ\" \"CGY\" \"CHI\" \"DAL\" ...\n",
      " $ continent : chr  \"Asia\" \"North America\" \"North America\" \"North America\" ...\n",
      " $ population: int  20035455 1547484 2694236 1382267 1461182 7547652 2340888 15190336 662000 9304016 ...\n",
      " $ outlets   : int  137 121 164 84 72 75 135 106 136 202 ...\n"
     ]
    }
   ],
   "source": [
    "str(starbucks)"
   ]
  },
  {
   "cell_type": "markdown",
   "metadata": {},
   "source": [
    "Uncommenting any of the below would allow us to view all elements within indiviudal variables:"
   ]
  },
  {
   "cell_type": "code",
   "execution_count": 8,
   "metadata": {},
   "outputs": [],
   "source": [
    "#starbucks$city\n",
    "#starbucks$abb\n",
    "#starbucks$continent\n",
    "#starbucks$population\n",
    "#starbucks$outlets"
   ]
  },
  {
   "cell_type": "markdown",
   "metadata": {},
   "source": [
    "And it might be helpful to know what classes we're working with:"
   ]
  },
  {
   "cell_type": "code",
   "execution_count": 9,
   "metadata": {},
   "outputs": [
    {
     "data": {
      "text/html": [
       "'character'"
      ],
      "text/latex": [
       "'character'"
      ],
      "text/markdown": [
       "'character'"
      ],
      "text/plain": [
       "[1] \"character\""
      ]
     },
     "metadata": {},
     "output_type": "display_data"
    },
    {
     "data": {
      "text/html": [
       "'character'"
      ],
      "text/latex": [
       "'character'"
      ],
      "text/markdown": [
       "'character'"
      ],
      "text/plain": [
       "[1] \"character\""
      ]
     },
     "metadata": {},
     "output_type": "display_data"
    },
    {
     "data": {
      "text/html": [
       "'character'"
      ],
      "text/latex": [
       "'character'"
      ],
      "text/markdown": [
       "'character'"
      ],
      "text/plain": [
       "[1] \"character\""
      ]
     },
     "metadata": {},
     "output_type": "display_data"
    },
    {
     "data": {
      "text/html": [
       "'integer'"
      ],
      "text/latex": [
       "'integer'"
      ],
      "text/markdown": [
       "'integer'"
      ],
      "text/plain": [
       "[1] \"integer\""
      ]
     },
     "metadata": {},
     "output_type": "display_data"
    },
    {
     "data": {
      "text/html": [
       "'integer'"
      ],
      "text/latex": [
       "'integer'"
      ],
      "text/markdown": [
       "'integer'"
      ],
      "text/plain": [
       "[1] \"integer\""
      ]
     },
     "metadata": {},
     "output_type": "display_data"
    }
   ],
   "source": [
    "class(starbucks$city)\n",
    "class(starbucks$abb)\n",
    "class(starbucks$continent)\n",
    "class(starbucks$population)\n",
    "class(starbucks$outlets)"
   ]
  },
  {
   "cell_type": "markdown",
   "metadata": {},
   "source": [
    "By using **sort()** on the column containing number of retail outlets, we can get an idea of the range of values in our data.  We can also use the **mean()** function on this variable to see the average number of outlets per city in our data set: "
   ]
  },
  {
   "cell_type": "code",
   "execution_count": 10,
   "metadata": {},
   "outputs": [
    {
     "data": {
      "text/html": [
       "<ol class=list-inline>\n",
       "\t<li>71</li>\n",
       "\t<li>72</li>\n",
       "\t<li>75</li>\n",
       "\t<li>81</li>\n",
       "\t<li>82</li>\n",
       "\t<li>84</li>\n",
       "\t<li>96</li>\n",
       "\t<li>102</li>\n",
       "\t<li>105</li>\n",
       "\t<li>106</li>\n",
       "\t<li>108</li>\n",
       "\t<li>109</li>\n",
       "\t<li>121</li>\n",
       "\t<li>127</li>\n",
       "\t<li>135</li>\n",
       "\t<li>136</li>\n",
       "\t<li>137</li>\n",
       "\t<li>142</li>\n",
       "\t<li>160</li>\n",
       "\t<li>160</li>\n",
       "\t<li>164</li>\n",
       "\t<li>202</li>\n",
       "\t<li>256</li>\n",
       "\t<li>277</li>\n",
       "\t<li>284</li>\n",
       "</ol>\n"
      ],
      "text/latex": [
       "\\begin{enumerate*}\n",
       "\\item 71\n",
       "\\item 72\n",
       "\\item 75\n",
       "\\item 81\n",
       "\\item 82\n",
       "\\item 84\n",
       "\\item 96\n",
       "\\item 102\n",
       "\\item 105\n",
       "\\item 106\n",
       "\\item 108\n",
       "\\item 109\n",
       "\\item 121\n",
       "\\item 127\n",
       "\\item 135\n",
       "\\item 136\n",
       "\\item 137\n",
       "\\item 142\n",
       "\\item 160\n",
       "\\item 160\n",
       "\\item 164\n",
       "\\item 202\n",
       "\\item 256\n",
       "\\item 277\n",
       "\\item 284\n",
       "\\end{enumerate*}\n"
      ],
      "text/markdown": [
       "1. 71\n",
       "2. 72\n",
       "3. 75\n",
       "4. 81\n",
       "5. 82\n",
       "6. 84\n",
       "7. 96\n",
       "8. 102\n",
       "9. 105\n",
       "10. 106\n",
       "11. 108\n",
       "12. 109\n",
       "13. 121\n",
       "14. 127\n",
       "15. 135\n",
       "16. 136\n",
       "17. 137\n",
       "18. 142\n",
       "19. 160\n",
       "20. 160\n",
       "21. 164\n",
       "22. 202\n",
       "23. 256\n",
       "24. 277\n",
       "25. 284\n",
       "\n",
       "\n"
      ],
      "text/plain": [
       " [1]  71  72  75  81  82  84  96 102 105 106 108 109 121 127 135 136 137 142 160\n",
       "[20] 160 164 202 256 277 284"
      ]
     },
     "metadata": {},
     "output_type": "display_data"
    },
    {
     "data": {
      "text/html": [
       "136"
      ],
      "text/latex": [
       "136"
      ],
      "text/markdown": [
       "136"
      ],
      "text/plain": [
       "[1] 136"
      ]
     },
     "metadata": {},
     "output_type": "display_data"
    }
   ],
   "source": [
    "sort(starbucks$outlets)\n",
    "round(mean(starbucks$outlets))"
   ]
  },
  {
   "cell_type": "markdown",
   "metadata": {},
   "source": [
    "The **order()** function allows us to see a list of cities, ordered by lowest number of outlets to highest:"
   ]
  },
  {
   "cell_type": "code",
   "execution_count": 11,
   "metadata": {},
   "outputs": [
    {
     "data": {
      "text/html": [
       "<ol class=list-inline>\n",
       "\t<li>'San Jose'</li>\n",
       "\t<li>'Edmonton'</li>\n",
       "\t<li>'Hong Kong'</li>\n",
       "\t<li>'Washington DC'</li>\n",
       "\t<li>'San Francisco'</li>\n",
       "\t<li>'Dallas'</li>\n",
       "\t<li>'Phoenix'</li>\n",
       "\t<li>'Portland'</li>\n",
       "\t<li>'Los Angeles'</li>\n",
       "\t<li>'Istanbul'</li>\n",
       "\t<li>'Vancouver'</li>\n",
       "\t<li>'Taipei'</li>\n",
       "\t<li>'Calgary'</li>\n",
       "\t<li>'San Diego'</li>\n",
       "\t<li>'Houston'</li>\n",
       "\t<li>'Las Vegas'</li>\n",
       "\t<li>'Beijing'</li>\n",
       "\t<li>'Seattle'</li>\n",
       "\t<li>'Mexico City'</li>\n",
       "\t<li>'Toronto'</li>\n",
       "\t<li>'Chicago'</li>\n",
       "\t<li>'London'</li>\n",
       "\t<li>'Shanghai'</li>\n",
       "\t<li>'New York City'</li>\n",
       "\t<li>'Seoul'</li>\n",
       "</ol>\n"
      ],
      "text/latex": [
       "\\begin{enumerate*}\n",
       "\\item 'San Jose'\n",
       "\\item 'Edmonton'\n",
       "\\item 'Hong Kong'\n",
       "\\item 'Washington DC'\n",
       "\\item 'San Francisco'\n",
       "\\item 'Dallas'\n",
       "\\item 'Phoenix'\n",
       "\\item 'Portland'\n",
       "\\item 'Los Angeles'\n",
       "\\item 'Istanbul'\n",
       "\\item 'Vancouver'\n",
       "\\item 'Taipei'\n",
       "\\item 'Calgary'\n",
       "\\item 'San Diego'\n",
       "\\item 'Houston'\n",
       "\\item 'Las Vegas'\n",
       "\\item 'Beijing'\n",
       "\\item 'Seattle'\n",
       "\\item 'Mexico City'\n",
       "\\item 'Toronto'\n",
       "\\item 'Chicago'\n",
       "\\item 'London'\n",
       "\\item 'Shanghai'\n",
       "\\item 'New York City'\n",
       "\\item 'Seoul'\n",
       "\\end{enumerate*}\n"
      ],
      "text/markdown": [
       "1. 'San Jose'\n",
       "2. 'Edmonton'\n",
       "3. 'Hong Kong'\n",
       "4. 'Washington DC'\n",
       "5. 'San Francisco'\n",
       "6. 'Dallas'\n",
       "7. 'Phoenix'\n",
       "8. 'Portland'\n",
       "9. 'Los Angeles'\n",
       "10. 'Istanbul'\n",
       "11. 'Vancouver'\n",
       "12. 'Taipei'\n",
       "13. 'Calgary'\n",
       "14. 'San Diego'\n",
       "15. 'Houston'\n",
       "16. 'Las Vegas'\n",
       "17. 'Beijing'\n",
       "18. 'Seattle'\n",
       "19. 'Mexico City'\n",
       "20. 'Toronto'\n",
       "21. 'Chicago'\n",
       "22. 'London'\n",
       "23. 'Shanghai'\n",
       "24. 'New York City'\n",
       "25. 'Seoul'\n",
       "\n",
       "\n"
      ],
      "text/plain": [
       " [1] \"San Jose\"      \"Edmonton\"      \"Hong Kong\"     \"Washington DC\"\n",
       " [5] \"San Francisco\" \"Dallas\"        \"Phoenix\"       \"Portland\"     \n",
       " [9] \"Los Angeles\"   \"Istanbul\"      \"Vancouver\"     \"Taipei\"       \n",
       "[13] \"Calgary\"       \"San Diego\"     \"Houston\"       \"Las Vegas\"    \n",
       "[17] \"Beijing\"       \"Seattle\"       \"Mexico City\"   \"Toronto\"      \n",
       "[21] \"Chicago\"       \"London\"        \"Shanghai\"      \"New York City\"\n",
       "[25] \"Seoul\"        "
      ]
     },
     "metadata": {},
     "output_type": "display_data"
    }
   ],
   "source": [
    "index <- order(starbucks$outlets)\n",
    "starbucks$city[index]"
   ]
  },
  {
   "cell_type": "markdown",
   "metadata": {},
   "source": [
    "**max()** and **(min)**, and then indexing with **which.max()** and **which.min()** show us that Seoul (284) has the most outlets, and San Jose (71) the least:"
   ]
  },
  {
   "cell_type": "code",
   "execution_count": 12,
   "metadata": {},
   "outputs": [
    {
     "data": {
      "text/html": [
       "284"
      ],
      "text/latex": [
       "284"
      ],
      "text/markdown": [
       "284"
      ],
      "text/plain": [
       "[1] 284"
      ]
     },
     "metadata": {},
     "output_type": "display_data"
    },
    {
     "data": {
      "text/html": [
       "'Seoul'"
      ],
      "text/latex": [
       "'Seoul'"
      ],
      "text/markdown": [
       "'Seoul'"
      ],
      "text/plain": [
       "[1] \"Seoul\""
      ]
     },
     "metadata": {},
     "output_type": "display_data"
    },
    {
     "data": {
      "text/html": [
       "71"
      ],
      "text/latex": [
       "71"
      ],
      "text/markdown": [
       "71"
      ],
      "text/plain": [
       "[1] 71"
      ]
     },
     "metadata": {},
     "output_type": "display_data"
    },
    {
     "data": {
      "text/html": [
       "'San Jose'"
      ],
      "text/latex": [
       "'San Jose'"
      ],
      "text/markdown": [
       "'San Jose'"
      ],
      "text/plain": [
       "[1] \"San Jose\""
      ]
     },
     "metadata": {},
     "output_type": "display_data"
    }
   ],
   "source": [
    "max(starbucks$outlets)\n",
    "i_max <- which.max(starbucks$outlets)\n",
    "starbucks$city[i_max]\n",
    "min(starbucks$outlets)\n",
    "i_min <- which.min(starbucks$outlets)\n",
    "starbucks$city[i_min]"
   ]
  },
  {
   "cell_type": "markdown",
   "metadata": {},
   "source": [
    "So that I can fully enjoy my visits, I'd appreciate it if the Starbucks outlets weren't too crowded.  We can get outlet per capita figures by dividing total number of outlets by city population * 100,000.  We'll also round this to 2 significant figures:"
   ]
  },
  {
   "cell_type": "code",
   "execution_count": 13,
   "metadata": {},
   "outputs": [
    {
     "data": {
      "text/html": [
       "<ol class=list-inline>\n",
       "\t<li>0.68</li>\n",
       "\t<li>7.8</li>\n",
       "\t<li>6.1</li>\n",
       "\t<li>6.1</li>\n",
       "\t<li>4.9</li>\n",
       "\t<li>0.99</li>\n",
       "\t<li>5.8</li>\n",
       "\t<li>0.7</li>\n",
       "\t<li>21</li>\n",
       "\t<li>2.2</li>\n",
       "\t<li>2.6</li>\n",
       "\t<li>0.74</li>\n",
       "\t<li>3.3</li>\n",
       "\t<li>5.6</li>\n",
       "\t<li>15</li>\n",
       "\t<li>8.8</li>\n",
       "\t<li>9.2</li>\n",
       "\t<li>5.1</li>\n",
       "\t<li>18</li>\n",
       "\t<li>2.9</li>\n",
       "\t<li>0.95</li>\n",
       "\t<li>4.1</li>\n",
       "\t<li>2.6</li>\n",
       "\t<li>4.2</li>\n",
       "\t<li>11</li>\n",
       "</ol>\n"
      ],
      "text/latex": [
       "\\begin{enumerate*}\n",
       "\\item 0.68\n",
       "\\item 7.8\n",
       "\\item 6.1\n",
       "\\item 6.1\n",
       "\\item 4.9\n",
       "\\item 0.99\n",
       "\\item 5.8\n",
       "\\item 0.7\n",
       "\\item 21\n",
       "\\item 2.2\n",
       "\\item 2.6\n",
       "\\item 0.74\n",
       "\\item 3.3\n",
       "\\item 5.6\n",
       "\\item 15\n",
       "\\item 8.8\n",
       "\\item 9.2\n",
       "\\item 5.1\n",
       "\\item 18\n",
       "\\item 2.9\n",
       "\\item 0.95\n",
       "\\item 4.1\n",
       "\\item 2.6\n",
       "\\item 4.2\n",
       "\\item 11\n",
       "\\end{enumerate*}\n"
      ],
      "text/markdown": [
       "1. 0.68\n",
       "2. 7.8\n",
       "3. 6.1\n",
       "4. 6.1\n",
       "5. 4.9\n",
       "6. 0.99\n",
       "7. 5.8\n",
       "8. 0.7\n",
       "9. 21\n",
       "10. 2.2\n",
       "11. 2.6\n",
       "12. 0.74\n",
       "13. 3.3\n",
       "14. 5.6\n",
       "15. 15\n",
       "16. 8.8\n",
       "17. 9.2\n",
       "18. 5.1\n",
       "19. 18\n",
       "20. 2.9\n",
       "21. 0.95\n",
       "22. 4.1\n",
       "23. 2.6\n",
       "24. 4.2\n",
       "25. 11\n",
       "\n",
       "\n"
      ],
      "text/plain": [
       " [1]  0.68  7.80  6.10  6.10  4.90  0.99  5.80  0.70 21.00  2.20  2.60  0.74\n",
       "[13]  3.30  5.60 15.00  8.80  9.20  5.10 18.00  2.90  0.95  4.10  2.60  4.20\n",
       "[25] 11.00"
      ]
     },
     "metadata": {},
     "output_type": "display_data"
    }
   ],
   "source": [
    "per_100k <- signif(starbucks$outlets / starbucks$population*100000, 2)\n",
    "per_100k"
   ]
  },
  {
   "cell_type": "markdown",
   "metadata": {},
   "source": [
    "And we can now order the cities by the per capita figure, from high to low:"
   ]
  },
  {
   "cell_type": "code",
   "execution_count": 14,
   "metadata": {},
   "outputs": [
    {
     "data": {
      "text/html": [
       "<ol class=list-inline>\n",
       "\t<li>'Las Vegas'</li>\n",
       "\t<li>'Seattle'</li>\n",
       "\t<li>'Portland'</li>\n",
       "\t<li>'Washington DC'</li>\n",
       "\t<li>'San Francisco'</li>\n",
       "\t<li>'San Diego'</li>\n",
       "\t<li>'Calgary'</li>\n",
       "\t<li>'Chicago'</li>\n",
       "\t<li>'Dallas'</li>\n",
       "\t<li>'Houston'</li>\n",
       "\t<li>'Phoenix'</li>\n",
       "\t<li>'San Jose'</li>\n",
       "\t<li>'Edmonton'</li>\n",
       "\t<li>'Vancouver'</li>\n",
       "\t<li>'Taipei'</li>\n",
       "\t<li>'New York City'</li>\n",
       "\t<li>'Seoul'</li>\n",
       "\t<li>'Los Angeles'</li>\n",
       "\t<li>'Toronto'</li>\n",
       "\t<li>'London'</li>\n",
       "\t<li>'Hong Kong'</li>\n",
       "\t<li>'Shanghai'</li>\n",
       "\t<li>'Mexico City'</li>\n",
       "\t<li>'Istanbul'</li>\n",
       "\t<li>'Beijing'</li>\n",
       "</ol>\n"
      ],
      "text/latex": [
       "\\begin{enumerate*}\n",
       "\\item 'Las Vegas'\n",
       "\\item 'Seattle'\n",
       "\\item 'Portland'\n",
       "\\item 'Washington DC'\n",
       "\\item 'San Francisco'\n",
       "\\item 'San Diego'\n",
       "\\item 'Calgary'\n",
       "\\item 'Chicago'\n",
       "\\item 'Dallas'\n",
       "\\item 'Houston'\n",
       "\\item 'Phoenix'\n",
       "\\item 'San Jose'\n",
       "\\item 'Edmonton'\n",
       "\\item 'Vancouver'\n",
       "\\item 'Taipei'\n",
       "\\item 'New York City'\n",
       "\\item 'Seoul'\n",
       "\\item 'Los Angeles'\n",
       "\\item 'Toronto'\n",
       "\\item 'London'\n",
       "\\item 'Hong Kong'\n",
       "\\item 'Shanghai'\n",
       "\\item 'Mexico City'\n",
       "\\item 'Istanbul'\n",
       "\\item 'Beijing'\n",
       "\\end{enumerate*}\n"
      ],
      "text/markdown": [
       "1. 'Las Vegas'\n",
       "2. 'Seattle'\n",
       "3. 'Portland'\n",
       "4. 'Washington DC'\n",
       "5. 'San Francisco'\n",
       "6. 'San Diego'\n",
       "7. 'Calgary'\n",
       "8. 'Chicago'\n",
       "9. 'Dallas'\n",
       "10. 'Houston'\n",
       "11. 'Phoenix'\n",
       "12. 'San Jose'\n",
       "13. 'Edmonton'\n",
       "14. 'Vancouver'\n",
       "15. 'Taipei'\n",
       "16. 'New York City'\n",
       "17. 'Seoul'\n",
       "18. 'Los Angeles'\n",
       "19. 'Toronto'\n",
       "20. 'London'\n",
       "21. 'Hong Kong'\n",
       "22. 'Shanghai'\n",
       "23. 'Mexico City'\n",
       "24. 'Istanbul'\n",
       "25. 'Beijing'\n",
       "\n",
       "\n"
      ],
      "text/plain": [
       " [1] \"Las Vegas\"     \"Seattle\"       \"Portland\"      \"Washington DC\"\n",
       " [5] \"San Francisco\" \"San Diego\"     \"Calgary\"       \"Chicago\"      \n",
       " [9] \"Dallas\"        \"Houston\"       \"Phoenix\"       \"San Jose\"     \n",
       "[13] \"Edmonton\"      \"Vancouver\"     \"Taipei\"        \"New York City\"\n",
       "[17] \"Seoul\"         \"Los Angeles\"   \"Toronto\"       \"London\"       \n",
       "[21] \"Hong Kong\"     \"Shanghai\"      \"Mexico City\"   \"Istanbul\"     \n",
       "[25] \"Beijing\"      "
      ]
     },
     "metadata": {},
     "output_type": "display_data"
    }
   ],
   "source": [
    "starbucks$city[order(per_100k, decreasing = TRUE)]"
   ]
  },
  {
   "cell_type": "markdown",
   "metadata": {},
   "source": [
    "We'll add this new variable to our Starbucks data frame with the **mutate()** function:"
   ]
  },
  {
   "cell_type": "code",
   "execution_count": 15,
   "metadata": {},
   "outputs": [
    {
     "data": {
      "text/html": [
       "<table>\n",
       "<thead><tr><th scope=col>city</th><th scope=col>abb</th><th scope=col>continent</th><th scope=col>population</th><th scope=col>outlets</th><th scope=col>per_100k</th></tr></thead>\n",
       "<tbody>\n",
       "\t<tr><td>Beijing      </td><td>BJ           </td><td>Asia         </td><td>20035455     </td><td>137          </td><td>0.68         </td></tr>\n",
       "\t<tr><td>Calgary      </td><td>CGY          </td><td>North America</td><td> 1547484     </td><td>121          </td><td>7.80         </td></tr>\n",
       "\t<tr><td>Chicago      </td><td>CHI          </td><td>North America</td><td> 2694236     </td><td>164          </td><td>6.10         </td></tr>\n",
       "\t<tr><td>Dallas       </td><td>DAL          </td><td>North America</td><td> 1382267     </td><td> 84          </td><td>6.10         </td></tr>\n",
       "\t<tr><td>Edmonton     </td><td>EDM          </td><td>North America</td><td> 1461182     </td><td> 72          </td><td>4.90         </td></tr>\n",
       "\t<tr><td>Hong Kong    </td><td>HK           </td><td>Asia         </td><td> 7547652     </td><td> 75          </td><td>0.99         </td></tr>\n",
       "</tbody>\n",
       "</table>\n"
      ],
      "text/latex": [
       "\\begin{tabular}{r|llllll}\n",
       " city & abb & continent & population & outlets & per\\_100k\\\\\n",
       "\\hline\n",
       "\t Beijing       & BJ            & Asia          & 20035455      & 137           & 0.68         \\\\\n",
       "\t Calgary       & CGY           & North America &  1547484      & 121           & 7.80         \\\\\n",
       "\t Chicago       & CHI           & North America &  2694236      & 164           & 6.10         \\\\\n",
       "\t Dallas        & DAL           & North America &  1382267      &  84           & 6.10         \\\\\n",
       "\t Edmonton      & EDM           & North America &  1461182      &  72           & 4.90         \\\\\n",
       "\t Hong Kong     & HK            & Asia          &  7547652      &  75           & 0.99         \\\\\n",
       "\\end{tabular}\n"
      ],
      "text/markdown": [
       "\n",
       "| city | abb | continent | population | outlets | per_100k |\n",
       "|---|---|---|---|---|---|\n",
       "| Beijing       | BJ            | Asia          | 20035455      | 137           | 0.68          |\n",
       "| Calgary       | CGY           | North America |  1547484      | 121           | 7.80          |\n",
       "| Chicago       | CHI           | North America |  2694236      | 164           | 6.10          |\n",
       "| Dallas        | DAL           | North America |  1382267      |  84           | 6.10          |\n",
       "| Edmonton      | EDM           | North America |  1461182      |  72           | 4.90          |\n",
       "| Hong Kong     | HK            | Asia          |  7547652      |  75           | 0.99          |\n",
       "\n"
      ],
      "text/plain": [
       "  city      abb continent     population outlets per_100k\n",
       "1 Beijing   BJ  Asia          20035455   137     0.68    \n",
       "2 Calgary   CGY North America  1547484   121     7.80    \n",
       "3 Chicago   CHI North America  2694236   164     6.10    \n",
       "4 Dallas    DAL North America  1382267    84     6.10    \n",
       "5 Edmonton  EDM North America  1461182    72     4.90    \n",
       "6 Hong Kong HK  Asia           7547652    75     0.99    "
      ]
     },
     "metadata": {},
     "output_type": "display_data"
    }
   ],
   "source": [
    "starbucks <- mutate(starbucks, per_100k = signif(starbucks$outlets / starbucks$population*100000, 2))\n",
    "head(starbucks)"
   ]
  },
  {
   "cell_type": "markdown",
   "metadata": {},
   "source": [
    "Since I live in London, I'd like to go somewere with even more Starbucks outlets per capita than my home city.  We can extract this number from the data frame by using **which()** to find London's index number..."
   ]
  },
  {
   "cell_type": "code",
   "execution_count": 16,
   "metadata": {},
   "outputs": [
    {
     "data": {
      "text/html": [
       "10"
      ],
      "text/latex": [
       "10"
      ],
      "text/markdown": [
       "10"
      ],
      "text/plain": [
       "[1] 10"
      ]
     },
     "metadata": {},
     "output_type": "display_data"
    }
   ],
   "source": [
    "index <- which(starbucks$city == \"London\")\n",
    "index"
   ]
  },
  {
   "cell_type": "markdown",
   "metadata": {},
   "source": [
    "...and then applying it to the per_100k variable in the data frame:"
   ]
  },
  {
   "cell_type": "code",
   "execution_count": 17,
   "metadata": {},
   "outputs": [
    {
     "data": {
      "text/html": [
       "2.2"
      ],
      "text/latex": [
       "2.2"
      ],
      "text/markdown": [
       "2.2"
      ],
      "text/plain": [
       "[1] 2.2"
      ]
     },
     "metadata": {},
     "output_type": "display_data"
    }
   ],
   "source": [
    "starbucks$per_100k[index]"
   ]
  },
  {
   "cell_type": "markdown",
   "metadata": {},
   "source": [
    "I think I'd like my next vacation to be in North America, and it'd be great if the Starbucks per capita number was relatively high - at least double London's number - so, 4.4.  By saving these two conditions to individual variables, then indexing the city column against them, we can build a list of candidate vacation cities:"
   ]
  },
  {
   "cell_type": "code",
   "execution_count": 18,
   "metadata": {},
   "outputs": [
    {
     "data": {
      "text/html": [
       "<ol class=list-inline>\n",
       "\t<li>'Calgary'</li>\n",
       "\t<li>'Chicago'</li>\n",
       "\t<li>'Dallas'</li>\n",
       "\t<li>'Edmonton'</li>\n",
       "\t<li>'Houston'</li>\n",
       "\t<li>'Las Vegas'</li>\n",
       "\t<li>'Phoenix'</li>\n",
       "\t<li>'Portland'</li>\n",
       "\t<li>'San Diego'</li>\n",
       "\t<li>'San Francisco'</li>\n",
       "\t<li>'San Jose'</li>\n",
       "\t<li>'Seattle'</li>\n",
       "\t<li>'Washington DC'</li>\n",
       "</ol>\n"
      ],
      "text/latex": [
       "\\begin{enumerate*}\n",
       "\\item 'Calgary'\n",
       "\\item 'Chicago'\n",
       "\\item 'Dallas'\n",
       "\\item 'Edmonton'\n",
       "\\item 'Houston'\n",
       "\\item 'Las Vegas'\n",
       "\\item 'Phoenix'\n",
       "\\item 'Portland'\n",
       "\\item 'San Diego'\n",
       "\\item 'San Francisco'\n",
       "\\item 'San Jose'\n",
       "\\item 'Seattle'\n",
       "\\item 'Washington DC'\n",
       "\\end{enumerate*}\n"
      ],
      "text/markdown": [
       "1. 'Calgary'\n",
       "2. 'Chicago'\n",
       "3. 'Dallas'\n",
       "4. 'Edmonton'\n",
       "5. 'Houston'\n",
       "6. 'Las Vegas'\n",
       "7. 'Phoenix'\n",
       "8. 'Portland'\n",
       "9. 'San Diego'\n",
       "10. 'San Francisco'\n",
       "11. 'San Jose'\n",
       "12. 'Seattle'\n",
       "13. 'Washington DC'\n",
       "\n",
       "\n"
      ],
      "text/plain": [
       " [1] \"Calgary\"       \"Chicago\"       \"Dallas\"        \"Edmonton\"     \n",
       " [5] \"Houston\"       \"Las Vegas\"     \"Phoenix\"       \"Portland\"     \n",
       " [9] \"San Diego\"     \"San Francisco\" \"San Jose\"      \"Seattle\"      \n",
       "[13] \"Washington DC\""
      ]
     },
     "metadata": {},
     "output_type": "display_data"
    }
   ],
   "source": [
    "manystars <- per_100k >= 4.4\n",
    "northam <- starbucks$continent == \"North America\"\n",
    "index <- manystars & northam\n",
    "starbucks$city[index]"
   ]
  },
  {
   "cell_type": "markdown",
   "metadata": {},
   "source": [
    "I've never been to Canada, and wonder what the Starbucks per capita rates are like for Calgary and Edmonton.  We can use the **match()** function to extract these figures:"
   ]
  },
  {
   "cell_type": "code",
   "execution_count": 19,
   "metadata": {},
   "outputs": [
    {
     "data": {
      "text/html": [
       "<ol class=list-inline>\n",
       "\t<li>7.8</li>\n",
       "\t<li>4.9</li>\n",
       "</ol>\n"
      ],
      "text/latex": [
       "\\begin{enumerate*}\n",
       "\\item 7.8\n",
       "\\item 4.9\n",
       "\\end{enumerate*}\n"
      ],
      "text/markdown": [
       "1. 7.8\n",
       "2. 4.9\n",
       "\n",
       "\n"
      ],
      "text/plain": [
       "[1] 7.8 4.9"
      ]
     },
     "metadata": {},
     "output_type": "display_data"
    }
   ],
   "source": [
    "index <- match(c(\"Calgary\", \"Edmonton\"), starbucks$city)\n",
    "starbucks$per_100k[index]"
   ]
  },
  {
   "cell_type": "markdown",
   "metadata": {},
   "source": [
    "I'd quite like to visit New Orleans, Memphis, Las Vegas, or Atlanta.  We can use **%in%** to see whether any of these cities are in the Starbucks data frame:"
   ]
  },
  {
   "cell_type": "code",
   "execution_count": 20,
   "metadata": {},
   "outputs": [
    {
     "data": {
      "text/html": [
       "<ol class=list-inline>\n",
       "\t<li>FALSE</li>\n",
       "\t<li>FALSE</li>\n",
       "\t<li>TRUE</li>\n",
       "\t<li>FALSE</li>\n",
       "</ol>\n"
      ],
      "text/latex": [
       "\\begin{enumerate*}\n",
       "\\item FALSE\n",
       "\\item FALSE\n",
       "\\item TRUE\n",
       "\\item FALSE\n",
       "\\end{enumerate*}\n"
      ],
      "text/markdown": [
       "1. FALSE\n",
       "2. FALSE\n",
       "3. TRUE\n",
       "4. FALSE\n",
       "\n",
       "\n"
      ],
      "text/plain": [
       "[1] FALSE FALSE  TRUE FALSE"
      ]
     },
     "metadata": {},
     "output_type": "display_data"
    }
   ],
   "source": [
    "c(\"New Orleans\", \"Memphis\", \"Las Vegas\", \"Atlanta\") %in% starbucks$city"
   ]
  },
  {
   "cell_type": "markdown",
   "metadata": {},
   "source": [
    "Out of curiosity, I wonder which cities have a lower per 100k rate than London.  We can use **filter()** on our data frame to get this info:"
   ]
  },
  {
   "cell_type": "code",
   "execution_count": 21,
   "metadata": {},
   "outputs": [
    {
     "data": {
      "text/html": [
       "<table>\n",
       "<thead><tr><th scope=col>city</th><th scope=col>abb</th><th scope=col>continent</th><th scope=col>population</th><th scope=col>outlets</th><th scope=col>per_100k</th></tr></thead>\n",
       "<tbody>\n",
       "\t<tr><td>Beijing      </td><td>BJ           </td><td>Asia         </td><td>20035455     </td><td>137          </td><td>0.68         </td></tr>\n",
       "\t<tr><td>Hong Kong    </td><td>HK           </td><td>Asia         </td><td> 7547652     </td><td> 75          </td><td>0.99         </td></tr>\n",
       "\t<tr><td>Istanbul     </td><td>IST          </td><td>Europe       </td><td>15190336     </td><td>106          </td><td>0.70         </td></tr>\n",
       "\t<tr><td>Mexico City  </td><td>CDMX         </td><td>North America</td><td>21671908     </td><td>160          </td><td>0.74         </td></tr>\n",
       "\t<tr><td>Shanghai     </td><td>SH           </td><td>Asia         </td><td>27058479     </td><td>256          </td><td>0.95         </td></tr>\n",
       "</tbody>\n",
       "</table>\n"
      ],
      "text/latex": [
       "\\begin{tabular}{r|llllll}\n",
       " city & abb & continent & population & outlets & per\\_100k\\\\\n",
       "\\hline\n",
       "\t Beijing       & BJ            & Asia          & 20035455      & 137           & 0.68         \\\\\n",
       "\t Hong Kong     & HK            & Asia          &  7547652      &  75           & 0.99         \\\\\n",
       "\t Istanbul      & IST           & Europe        & 15190336      & 106           & 0.70         \\\\\n",
       "\t Mexico City   & CDMX          & North America & 21671908      & 160           & 0.74         \\\\\n",
       "\t Shanghai      & SH            & Asia          & 27058479      & 256           & 0.95         \\\\\n",
       "\\end{tabular}\n"
      ],
      "text/markdown": [
       "\n",
       "| city | abb | continent | population | outlets | per_100k |\n",
       "|---|---|---|---|---|---|\n",
       "| Beijing       | BJ            | Asia          | 20035455      | 137           | 0.68          |\n",
       "| Hong Kong     | HK            | Asia          |  7547652      |  75           | 0.99          |\n",
       "| Istanbul      | IST           | Europe        | 15190336      | 106           | 0.70          |\n",
       "| Mexico City   | CDMX          | North America | 21671908      | 160           | 0.74          |\n",
       "| Shanghai      | SH            | Asia          | 27058479      | 256           | 0.95          |\n",
       "\n"
      ],
      "text/plain": [
       "  city        abb  continent     population outlets per_100k\n",
       "1 Beijing     BJ   Asia          20035455   137     0.68    \n",
       "2 Hong Kong   HK   Asia           7547652    75     0.99    \n",
       "3 Istanbul    IST  Europe        15190336   106     0.70    \n",
       "4 Mexico City CDMX North America 21671908   160     0.74    \n",
       "5 Shanghai    SH   Asia          27058479   256     0.95    "
      ]
     },
     "metadata": {},
     "output_type": "display_data"
    }
   ],
   "source": [
    "filter(starbucks, per_100k <2.2)"
   ]
  },
  {
   "cell_type": "markdown",
   "metadata": {},
   "source": [
    "For my final list of candidate cities, I decide that I want an even higher per capita rate - this time doubled again to 8.8 outlets per 100,000 people.  We can create a final condensed data frame, consisting of city name, abbreviation, and Starbucks per capita figure, by combining **select** and **filter**:"
   ]
  },
  {
   "cell_type": "code",
   "execution_count": 22,
   "metadata": {},
   "outputs": [
    {
     "data": {
      "text/html": [
       "<table>\n",
       "<thead><tr><th scope=col>city</th><th scope=col>abb</th><th scope=col>per_100k</th></tr></thead>\n",
       "<tbody>\n",
       "\t<tr><td>Las Vegas    </td><td>LV           </td><td>21.0         </td></tr>\n",
       "\t<tr><td>Portland     </td><td>PO           </td><td>15.0         </td></tr>\n",
       "\t<tr><td>San Diego    </td><td>SD           </td><td> 8.8         </td></tr>\n",
       "\t<tr><td>San Francisco</td><td>SF           </td><td> 9.2         </td></tr>\n",
       "\t<tr><td>Seattle      </td><td>SEA          </td><td>18.0         </td></tr>\n",
       "\t<tr><td>Washington DC</td><td>DC           </td><td>11.0         </td></tr>\n",
       "</tbody>\n",
       "</table>\n"
      ],
      "text/latex": [
       "\\begin{tabular}{r|lll}\n",
       " city & abb & per\\_100k\\\\\n",
       "\\hline\n",
       "\t Las Vegas     & LV            & 21.0         \\\\\n",
       "\t Portland      & PO            & 15.0         \\\\\n",
       "\t San Diego     & SD            &  8.8         \\\\\n",
       "\t San Francisco & SF            &  9.2         \\\\\n",
       "\t Seattle       & SEA           & 18.0         \\\\\n",
       "\t Washington DC & DC            & 11.0         \\\\\n",
       "\\end{tabular}\n"
      ],
      "text/markdown": [
       "\n",
       "| city | abb | per_100k |\n",
       "|---|---|---|\n",
       "| Las Vegas     | LV            | 21.0          |\n",
       "| Portland      | PO            | 15.0          |\n",
       "| San Diego     | SD            |  8.8          |\n",
       "| San Francisco | SF            |  9.2          |\n",
       "| Seattle       | SEA           | 18.0          |\n",
       "| Washington DC | DC            | 11.0          |\n",
       "\n"
      ],
      "text/plain": [
       "  city          abb per_100k\n",
       "1 Las Vegas     LV  21.0    \n",
       "2 Portland      PO  15.0    \n",
       "3 San Diego     SD   8.8    \n",
       "4 San Francisco SF   9.2    \n",
       "5 Seattle       SEA 18.0    \n",
       "6 Washington DC DC  11.0    "
      ]
     },
     "metadata": {},
     "output_type": "display_data"
    }
   ],
   "source": [
    "starbucks2 <- select(starbucks, city, abb, per_100k)\n",
    "filter(starbucks2, per_100k >= 8.8)"
   ]
  },
  {
   "cell_type": "markdown",
   "metadata": {},
   "source": [
    "We could have also used the **Pipe** (%>%) operator to prouce the same table:"
   ]
  },
  {
   "cell_type": "code",
   "execution_count": 23,
   "metadata": {},
   "outputs": [
    {
     "data": {
      "text/html": [
       "<table>\n",
       "<thead><tr><th scope=col>city</th><th scope=col>abb</th><th scope=col>per_100k</th></tr></thead>\n",
       "<tbody>\n",
       "\t<tr><td>Las Vegas    </td><td>LV           </td><td>21.0         </td></tr>\n",
       "\t<tr><td>Portland     </td><td>PO           </td><td>15.0         </td></tr>\n",
       "\t<tr><td>San Diego    </td><td>SD           </td><td> 8.8         </td></tr>\n",
       "\t<tr><td>San Francisco</td><td>SF           </td><td> 9.2         </td></tr>\n",
       "\t<tr><td>Seattle      </td><td>SEA          </td><td>18.0         </td></tr>\n",
       "\t<tr><td>Washington DC</td><td>DC           </td><td>11.0         </td></tr>\n",
       "</tbody>\n",
       "</table>\n"
      ],
      "text/latex": [
       "\\begin{tabular}{r|lll}\n",
       " city & abb & per\\_100k\\\\\n",
       "\\hline\n",
       "\t Las Vegas     & LV            & 21.0         \\\\\n",
       "\t Portland      & PO            & 15.0         \\\\\n",
       "\t San Diego     & SD            &  8.8         \\\\\n",
       "\t San Francisco & SF            &  9.2         \\\\\n",
       "\t Seattle       & SEA           & 18.0         \\\\\n",
       "\t Washington DC & DC            & 11.0         \\\\\n",
       "\\end{tabular}\n"
      ],
      "text/markdown": [
       "\n",
       "| city | abb | per_100k |\n",
       "|---|---|---|\n",
       "| Las Vegas     | LV            | 21.0          |\n",
       "| Portland      | PO            | 15.0          |\n",
       "| San Diego     | SD            |  8.8          |\n",
       "| San Francisco | SF            |  9.2          |\n",
       "| Seattle       | SEA           | 18.0          |\n",
       "| Washington DC | DC            | 11.0          |\n",
       "\n"
      ],
      "text/plain": [
       "  city          abb per_100k\n",
       "1 Las Vegas     LV  21.0    \n",
       "2 Portland      PO  15.0    \n",
       "3 San Diego     SD   8.8    \n",
       "4 San Francisco SF   9.2    \n",
       "5 Seattle       SEA 18.0    \n",
       "6 Washington DC DC  11.0    "
      ]
     },
     "metadata": {},
     "output_type": "display_data"
    }
   ],
   "source": [
    "starbucks3 <- starbucks %>% select(city, abb, per_100k) %>% filter(per_100k >= 8.8)\n",
    "starbucks3"
   ]
  },
  {
   "cell_type": "markdown",
   "metadata": {},
   "source": [
    "Looks like my next vacation is in one of these six cities!"
   ]
  },
  {
   "cell_type": "code",
   "execution_count": null,
   "metadata": {},
   "outputs": [],
   "source": [
    "population_in_millions <- starbucks$population/10^6\n",
    "total_starbucks <- starbucks$outlets\n",
    "plot(population_in_millions, total_starbucks)"
   ]
  },
  {
   "cell_type": "code",
   "execution_count": null,
   "metadata": {},
   "outputs": [],
   "source": [
    "hist(starbucks$per_100k)"
   ]
  },
  {
   "cell_type": "code",
   "execution_count": null,
   "metadata": {},
   "outputs": [],
   "source": [
    "boxplot(per_100k~continent, data = starbucks)"
   ]
  }
 ],
 "metadata": {
  "kernelspec": {
   "display_name": "R",
   "language": "R",
   "name": "ir"
  },
  "language_info": {
   "codemirror_mode": "r",
   "file_extension": ".r",
   "mimetype": "text/x-r-source",
   "name": "R",
   "pygments_lexer": "r",
   "version": "3.6.1"
  }
 },
 "nbformat": 4,
 "nbformat_minor": 4
}
